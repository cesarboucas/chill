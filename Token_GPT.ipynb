{
  "cells": [
    {
      "cell_type": "markdown",
      "metadata": {
        "id": "view-in-github",
        "colab_type": "text"
      },
      "source": [
        "<a href=\"https://colab.research.google.com/github/cesarboucas/chill/blob/main/Token_GPT.ipynb\" target=\"_parent\"><img src=\"https://colab.research.google.com/assets/colab-badge.svg\" alt=\"Open In Colab\"/></a>"
      ]
    },
    {
      "cell_type": "code",
      "execution_count": null,
      "id": "84e2ace6-06c2-4b7e-84bd-951185df1a9c",
      "metadata": {
        "colab": {
          "base_uri": "https://localhost:8080/"
        },
        "id": "84e2ace6-06c2-4b7e-84bd-951185df1a9c",
        "outputId": "945986f6-f3b2-4994-886d-0d2fa028ffd1"
      },
      "outputs": [
        {
          "output_type": "execute_result",
          "data": {
            "text/plain": [
              "{'status': {'timestamp': '2023-05-13T14:44:38.224Z',\n",
              "  'error_code': 0,\n",
              "  'error_message': None,\n",
              "  'elapsed': 5,\n",
              "  'credit_count': 1,\n",
              "  'notice': None},\n",
              " 'data': {'24478': {'id': 24478,\n",
              "   'name': 'Pepe',\n",
              "   'symbol': 'PEPE',\n",
              "   'category': 'token',\n",
              "   'description': 'Pepe (PEPE) is a cryptocurrency and operates on the Ethereum platform. Pepe has a current supply of 420,690,000,000,000 with 391,790,000,000,000 in circulation. The last known price of Pepe is 0.00000186 USD and is up 46.53 over the last 24 hours. It is currently trading on 101 active market(s) with $1,211,192,484.86 traded over the last 24 hours. More information can be found at https://www.pepe.vip/.',\n",
              "   'slug': 'pepe',\n",
              "   'logo': 'https://s2.coinmarketcap.com/static/img/coins/64x64/24478.png',\n",
              "   'subreddit': '',\n",
              "   'notice': '',\n",
              "   'tags': ['memes'],\n",
              "   'tag-names': ['Memes'],\n",
              "   'tag-groups': ['INDUSTRY'],\n",
              "   'urls': {'website': ['https://www.pepe.vip/'],\n",
              "    'twitter': ['https://twitter.com/pepecoineth'],\n",
              "    'message_board': [],\n",
              "    'chat': ['https://t.me/pepecoineth'],\n",
              "    'facebook': [],\n",
              "    'explorer': ['https://etherscan.io/token/0x6982508145454ce325ddbe47a25d4ec3d2311933'],\n",
              "    'reddit': [],\n",
              "    'technical_doc': [],\n",
              "    'source_code': [],\n",
              "    'announcement': []},\n",
              "   'platform': {'id': '1027',\n",
              "    'name': 'Ethereum',\n",
              "    'slug': 'ethereum',\n",
              "    'symbol': 'ETH',\n",
              "    'token_address': '0x6982508145454ce325ddbe47a25d4ec3d2311933'},\n",
              "   'date_added': '2023-04-17T06:18:08.000Z',\n",
              "   'twitter_username': 'pepecoineth',\n",
              "   'is_hidden': 0,\n",
              "   'date_launched': None,\n",
              "   'contract_address': [{'contract_address': '0x6982508145454ce325ddbe47a25d4ec3d2311933',\n",
              "     'platform': {'name': 'Ethereum',\n",
              "      'coin': {'id': '1027',\n",
              "       'name': 'Ethereum',\n",
              "       'symbol': 'ETH',\n",
              "       'slug': 'ethereum'}}}],\n",
              "   'self_reported_circulating_supply': 420690000000000,\n",
              "   'self_reported_tags': None,\n",
              "   'self_reported_market_cap': 779850546.2835413,\n",
              "   'infinite_supply': False}}}"
            ]
          },
          "metadata": {},
          "execution_count": 13
        }
      ],
      "source": [
        "from requests import Request, Session\n",
        "from requests.exceptions import ConnectionError, Timeout, TooManyRedirects\n",
        "import json\n",
        "\n",
        "url = 'https://pro-api.coinmarketcap.com/v1/cryptocurrency/info'\n",
        "parameters = {\n",
        "  'address':'0x6982508145454ce325ddbe47a25d4ec3d2311933',\n",
        "}\n",
        "headers = {\n",
        "  'Accepts': 'application/json',\n",
        "  'X-CMC_PRO_API_KEY': '69f27c26-55db-4ffe-aa08-a6de6f056a46',\n",
        "}\n",
        "\n",
        "session = Session()\n",
        "session.headers.update(headers)\n",
        "\n",
        "\n",
        "response = session.get(url, params=parameters)\n",
        "jasonCM = json.loads(response.text)\n",
        "jasonCM"
      ]
    },
    {
      "cell_type": "code",
      "execution_count": null,
      "id": "6bfabc57-3a44-4f02-8199-61e4fcdf69cd",
      "metadata": {
        "id": "6bfabc57-3a44-4f02-8199-61e4fcdf69cd"
      },
      "outputs": [],
      "source": [
        "import requests\n",
        "\n",
        "url = \"https://api.gopluslabs.io/api/v1/supported_chains?name=token_security\"\n",
        "session = Session()\n",
        "jason2 = session.get(url).json()"
      ]
    },
    {
      "cell_type": "code",
      "source": [
        "jason2"
      ],
      "metadata": {
        "colab": {
          "base_uri": "https://localhost:8080/"
        },
        "id": "FAUSsNzadgov",
        "outputId": "97146411-fb82-4072-f170-9b742a0d53f1"
      },
      "id": "FAUSsNzadgov",
      "execution_count": null,
      "outputs": [
        {
          "output_type": "execute_result",
          "data": {
            "text/plain": [
              "{'code': 1,\n",
              " 'message': 'OK',\n",
              " 'result': [{'name': 'OKC', 'id': '66'},\n",
              "  {'name': 'Avalanche', 'id': '43114'},\n",
              "  {'name': 'BSC', 'id': '56'},\n",
              "  {'name': 'Cronos', 'id': '25'},\n",
              "  {'name': 'Tron', 'id': 'tron'},\n",
              "  {'name': 'Linea', 'id': '59140'},\n",
              "  {'name': 'Fantom', 'id': '250'},\n",
              "  {'name': 'FON', 'id': '201022'},\n",
              "  {'name': 'Gnosis', 'id': '100'},\n",
              "  {'name': 'Harmony', 'id': '1666600000'},\n",
              "  {'name': 'Ethereum', 'id': '1'},\n",
              "  {'name': 'KCC', 'id': '321'},\n",
              "  {'name': 'zkSync Era', 'id': '324'},\n",
              "  {'name': 'Polygon', 'id': '137'},\n",
              "  {'name': 'HECO', 'id': '128'},\n",
              "  {'name': 'Arbitrum', 'id': '42161'},\n",
              "  {'name': 'ETHW', 'id': '10001'},\n",
              "  {'name': 'Optimism', 'id': '10'}]}"
            ]
          },
          "metadata": {},
          "execution_count": 12
        }
      ]
    },
    {
      "cell_type": "code",
      "execution_count": null,
      "id": "598faf9d-7dc0-44d9-83bd-190612d823df",
      "metadata": {
        "id": "598faf9d-7dc0-44d9-83bd-190612d823df"
      },
      "outputs": [],
      "source": [
        "import requests\n",
        "\n",
        "url = \"https://api.gopluslabs.io/api/v1/token_security/1?contract_addresses=\" + \"0x6982508145454ce325ddbe47a25d4ec3d2311933\"\n",
        "session = Session()\n",
        "jasonGP = session.get(url).json()"
      ]
    },
    {
      "cell_type": "code",
      "source": [
        "prompt = f\"\"\"\n",
        "\n",
        "Your task is to perform the following actions: \n",
        "1 - Based on the JSON delimited by < create a beautiful overview of the project and highlight the relevant information. \n",
        "Separate automatically section for a user friendly reading. Show and the end all https links.\n",
        "\n",
        "2 - Do a crypto token security audit and out the red flags. Assign a score between 0 and 100 for the provided token at the beginning of the conversaion, where 100 is the safest and best possible result and 0 the worst.\n",
        "Use the JSON delimited by ``` as imput for this action.\n",
        "\n",
        "3 - Infer something by combining all your findings in the tasks 1 and 2\n",
        "\n",
        "Use the following format:\n",
        "Contract: <the smart contract analised>\n",
        "Facts: <action 1 output>\n",
        "Security: <action 2 output>\n",
        "Combine: <action 3 output>\n",
        "\n",
        "Coinmarketcap: <{jasonCM}>\n",
        "GoPlus: ```{jasonGP}```\n",
        "\"\"\""
      ],
      "metadata": {
        "id": "A4CuPjoPfqOT"
      },
      "id": "A4CuPjoPfqOT",
      "execution_count": null,
      "outputs": []
    },
    {
      "cell_type": "code",
      "source": [
        "prompt = f\"\"\"\n",
        "Your task is to perform the following actions: \n",
        "1 - Based on the Coinmarketcap JSON, create an analysis with only the most information for a potential cryptocurrency investor \n",
        "interested in this particular crypto token.\n",
        "2 - Based on the GoPlusAPI JSON, create a table showing the potential security issues of the smart contract.\n",
        "\n",
        "Coinmarketcap JSON: ```{jasonCM}```\n",
        "GoPlusAPI JSON: ```{jasonGP}```\n",
        "\n",
        "Use the following format:\n",
        "Contract: <the smart contract analised>\n",
        "Overview: <action 1 output>\n",
        "Warnings: <action 2 output>\n",
        "\"\"\""
      ],
      "metadata": {
        "id": "pqffpaV30R6e"
      },
      "id": "pqffpaV30R6e",
      "execution_count": null,
      "outputs": []
    },
    {
      "cell_type": "code",
      "source": [
        "print(prompt)"
      ],
      "metadata": {
        "colab": {
          "base_uri": "https://localhost:8080/"
        },
        "id": "A04I7sW4pxyZ",
        "outputId": "0ac18467-18e6-4dad-efc1-471b5e0299e4"
      },
      "id": "A04I7sW4pxyZ",
      "execution_count": null,
      "outputs": [
        {
          "output_type": "stream",
          "name": "stdout",
          "text": [
            "\n",
            "Your task is to perform the following actions: \n",
            "1 - Based on the Coinmarketcap JSON, create an analysis with only the most information for a potential cryptocurrency investor \n",
            "interested in this particular crypto token.\n",
            "2 - Based on the GoPlusAPI JSON, create a table showing the potential security issues of the smart contract.\n",
            "\n",
            "Coinmarketcap JSON: ```{'status': {'timestamp': '2023-05-13T14:44:38.224Z', 'error_code': 0, 'error_message': None, 'elapsed': 5, 'credit_count': 1, 'notice': None}, 'data': {'24478': {'id': 24478, 'name': 'Pepe', 'symbol': 'PEPE', 'category': 'token', 'description': 'Pepe (PEPE) is a cryptocurrency and operates on the Ethereum platform. Pepe has a current supply of 420,690,000,000,000 with 391,790,000,000,000 in circulation. The last known price of Pepe is 0.00000186 USD and is up 46.53 over the last 24 hours. It is currently trading on 101 active market(s) with $1,211,192,484.86 traded over the last 24 hours. More information can be found at https://www.pepe.vip/.', 'slug': 'pepe', 'logo': 'https://s2.coinmarketcap.com/static/img/coins/64x64/24478.png', 'subreddit': '', 'notice': '', 'tags': ['memes'], 'tag-names': ['Memes'], 'tag-groups': ['INDUSTRY'], 'urls': {'website': ['https://www.pepe.vip/'], 'twitter': ['https://twitter.com/pepecoineth'], 'message_board': [], 'chat': ['https://t.me/pepecoineth'], 'facebook': [], 'explorer': ['https://etherscan.io/token/0x6982508145454ce325ddbe47a25d4ec3d2311933'], 'reddit': [], 'technical_doc': [], 'source_code': [], 'announcement': []}, 'platform': {'id': '1027', 'name': 'Ethereum', 'slug': 'ethereum', 'symbol': 'ETH', 'token_address': '0x6982508145454ce325ddbe47a25d4ec3d2311933'}, 'date_added': '2023-04-17T06:18:08.000Z', 'twitter_username': 'pepecoineth', 'is_hidden': 0, 'date_launched': None, 'contract_address': [{'contract_address': '0x6982508145454ce325ddbe47a25d4ec3d2311933', 'platform': {'name': 'Ethereum', 'coin': {'id': '1027', 'name': 'Ethereum', 'symbol': 'ETH', 'slug': 'ethereum'}}}], 'self_reported_circulating_supply': 420690000000000, 'self_reported_tags': None, 'self_reported_market_cap': 779850546.2835413, 'infinite_supply': False}}}```\n",
            "GoPlusAPI JSON: ```{'code': 1, 'message': 'OK', 'result': {'0x6982508145454ce325ddbe47a25d4ec3d2311933': {'anti_whale_modifiable': '1', 'buy_tax': '0', 'can_take_back_ownership': '0', 'cannot_buy': '0', 'cannot_sell_all': '0', 'creator_address': '0xe7edc72d915b636ae1096cdadbc148b327471ade', 'creator_balance': '0', 'creator_percent': '0.000000', 'dex': [{'name': 'UniswapV3', 'liquidity': '12778338.64625202382706758420394125', 'pair': '0x11950d141ecb863f01007add7d1a342041227b58'}, {'name': 'UniswapV3', 'liquidity': '12433227.79994532968283769462101068', 'pair': '0xf239009a101b6b930a527deaab6961b6e7dec8a6'}, {'name': 'UniswapV2', 'liquidity': '5700593.37719265', 'pair': '0xa43fe16908251ee70ef74718545e4fe6c5ccec9f'}, {'name': 'UniswapV3', 'liquidity': '174723.7637494480025886000979112147', 'pair': '0xcee31c846cbf003f4ceb5bbd234cba03c6e940c7'}, {'name': 'UniswapV2', 'liquidity': '0.00000100', 'pair': '0x5a75ed4624bbda1e992dd006ea2aca83d64c30fb'}], 'external_call': '0', 'hidden_owner': '0', 'holder_count': '110801', 'holders': [{'address': '0x28c6c06298d514db089934071355e5743bf21d60', 'tag': '', 'is_contract': 0, 'balance': '75732774512898.825622556588300902', 'percent': '0.180020382022151288', 'is_locked': 0}, {'address': '0x5bdea820293689b77fa8e83b1e3d58b27b5ce9ba', 'tag': '', 'is_contract': 1, 'balance': '26741960811214.83951', 'percent': '0.063566903922638616', 'is_locked': 0}, {'address': '0x6cc5f688a315f3dc28a7781717a9a798a59fda7b', 'tag': '', 'is_contract': 0, 'balance': '18686254340747.433834175513392302', 'percent': '0.044418109155785575', 'is_locked': 0}, {'address': '0x75e89d5979e4f6fba9f97c104c2f0afb3f1dcb88', 'tag': '', 'is_contract': 0, 'balance': '8628264181524.351532310632810131', 'percent': '0.020509791489040270', 'is_locked': 0}, {'address': '0x25cd302e37a69d70a6ef645daea5a7de38c66e2a', 'tag': '', 'is_contract': 0, 'balance': '4909115798620.998197568325614475', 'percent': '0.011669200120328503', 'is_locked': 0}, {'address': '0x9cd6140c2de8af7595629bcca099497f0c28b2a9', 'tag': '', 'is_contract': 0, 'balance': '4757377962342.73091445187676296', 'percent': '0.011308512116624428', 'is_locked': 0}, {'address': '0xd6216fc19db775df9774a6e33526131da7d19a2c', 'tag': '', 'is_contract': 0, 'balance': '4600000010000', 'percent': '0.010934417290641565', 'is_locked': 0}, {'address': '0x0d0707963952f2fba59dd06f2b425ace40b492fe', 'tag': '', 'is_contract': 0, 'balance': '4564951000027.821724961837250976', 'percent': '0.010851104138505364', 'is_locked': 0}, {'address': '0xe93381fb4c4f14bda253907b18fad305d799241a', 'tag': '', 'is_contract': 0, 'balance': '3673835601095.046406239533022746', 'percent': '0.008732880746143351', 'is_locked': 0}, {'address': '0x339b07af597a2c6128d067633611baf3f0725b1a', 'tag': '', 'is_contract': 0, 'balance': '3000393038200.000089361397103893', 'percent': '0.007132075966150847', 'is_locked': 0}], 'honeypot_with_same_creator': '136', 'is_anti_whale': '1', 'is_blacklisted': '1', 'is_honeypot': '0', 'is_in_dex': '1', 'is_mintable': '0', 'is_open_source': '1', 'is_proxy': '0', 'is_whitelisted': '0', 'lp_holder_count': '87', 'lp_holders': [{'address': '0x6982508145454ce325ddbe47a25d4ec3d2311933', 'tag': '', 'is_contract': 1, 'balance': '27987939.902750970427665813', 'percent': '0.926956023021374099', 'is_locked': 0}, {'address': '0xcf0afa96743819d52515bff99635a7978f2a856f', 'tag': '', 'is_contract': 0, 'balance': '365195.926756051487019988', 'percent': '0.012095229769166429', 'is_locked': 0}, {'address': '0x316330671b156c80851f5e7a6ffc7e688596e296', 'tag': '', 'is_contract': 0, 'balance': '330054.289658133810554438', 'percent': '0.010931344457138003', 'is_locked': 0}, {'address': '0x6d5596d228c44453b0e16d1e4abd3f14724773fb', 'tag': '', 'is_contract': 0, 'balance': '326386.624909706026048964', 'percent': '0.010809871996471323', 'is_locked': 0}, {'address': '0x537bf75de19f3d229e3a9018ee1a23c0c9c7d39c', 'tag': '', 'is_contract': 0, 'balance': '233263.380821170089712276', 'percent': '0.007725645279853522', 'is_locked': 0}, {'address': '0x52de12ab7b4c3efe563ecb1ce92957cd26519b6e', 'tag': '', 'is_contract': 0, 'balance': '136383.713338770307260763', 'percent': '0.004517006430650778', 'is_locked': 0}, {'address': '0xe586496407a1f9b4b60f2c93bb34b886e41e4e1e', 'tag': '', 'is_contract': 0, 'balance': '94957.377394071946330836', 'percent': '0.003144972913747643', 'is_locked': 0}, {'address': '0x9af8fa8ba5ef444c05e22f1f7dda943298ad6954', 'tag': '', 'is_contract': 0, 'balance': '63945.245247963156874795', 'percent': '0.002117856134897309', 'is_locked': 0}, {'address': '0xb56c9a8e7d540c18767b5202039dce8804b591d1', 'tag': '', 'is_contract': 0, 'balance': '56813.13696339653276367', 'percent': '0.001881641867102277', 'is_locked': 0}, {'address': '0xc6dcca0046ac51e410365a4b10be6d9f4b67db8c', 'tag': '', 'is_contract': 0, 'balance': '45035.603474124155207075', 'percent': '0.001491571871162923', 'is_locked': 0}], 'lp_total_supply': '30193384.807539692746605811', 'owner_address': '0x0000000000000000000000000000000000000000', 'owner_balance': '0', 'owner_change_balance': '0', 'owner_percent': '0.000000', 'personal_slippage_modifiable': '0', 'selfdestruct': '0', 'sell_tax': '0', 'slippage_modifiable': '0', 'token_name': 'Pepe', 'token_symbol': 'PEPE', 'total_supply': '420689999999999.999999999999998764', 'trading_cooldown': '0', 'transfer_pausable': '0'}}}```\n",
            "\n",
            "Use the following format:\n",
            "Contract: <the smart contract analised>\n",
            "Overview: <action 1 output>\n",
            "Warnings: <action 2 output>\n",
            "\n"
          ]
        }
      ]
    },
    {
      "cell_type": "code",
      "execution_count": null,
      "id": "6040d4d7-ada4-4e5b-b766-ce0bdd6f5d14",
      "metadata": {
        "colab": {
          "base_uri": "https://localhost:8080/",
          "height": 187
        },
        "id": "6040d4d7-ada4-4e5b-b766-ce0bdd6f5d14",
        "outputId": "e5b85070-7c1d-4dd9-99f8-d7c9482fcb0a"
      },
      "outputs": [
        {
          "output_type": "error",
          "ename": "TypeError",
          "evalue": "ignored",
          "traceback": [
            "\u001b[0;31m---------------------------------------------------------------------------\u001b[0m",
            "\u001b[0;31mTypeError\u001b[0m                                 Traceback (most recent call last)",
            "\u001b[0;32m<ipython-input-8-f49bd82ceb9c>\u001b[0m in \u001b[0;36m<cell line: 1>\u001b[0;34m()\u001b[0m\n\u001b[0;32m----> 1\u001b[0;31m \u001b[0mcreator\u001b[0m \u001b[0;34m=\u001b[0m \u001b[0mresponse\u001b[0m\u001b[0;34m[\u001b[0m\u001b[0;34m'result'\u001b[0m\u001b[0;34m]\u001b[0m\u001b[0;34m[\u001b[0m\u001b[0;34m'0x6982508145454ce325ddbe47a25d4ec3d2311933'\u001b[0m\u001b[0;34m]\u001b[0m\u001b[0;34m[\u001b[0m\u001b[0;34m'creator_address'\u001b[0m\u001b[0;34m]\u001b[0m\u001b[0;34m\u001b[0m\u001b[0;34m\u001b[0m\u001b[0m\n\u001b[0m\u001b[1;32m      2\u001b[0m \u001b[0mcreator\u001b[0m\u001b[0;34m\u001b[0m\u001b[0;34m\u001b[0m\u001b[0m\n",
            "\u001b[0;31mTypeError\u001b[0m: list indices must be integers or slices, not str"
          ]
        }
      ],
      "source": [
        "creator = response['result']['0x6982508145454ce325ddbe47a25d4ec3d2311933']['creator_address']\n",
        "creator"
      ]
    },
    {
      "cell_type": "code",
      "execution_count": null,
      "id": "328e7b3b-c70e-450b-84ea-bb71c42f7668",
      "metadata": {
        "colab": {
          "base_uri": "https://localhost:8080/",
          "height": 204
        },
        "id": "328e7b3b-c70e-450b-84ea-bb71c42f7668",
        "outputId": "c7e4eb50-271e-41e4-d2ff-912ccdc5b4b8"
      },
      "outputs": [
        {
          "output_type": "error",
          "ename": "NameError",
          "evalue": "ignored",
          "traceback": [
            "\u001b[0;31m---------------------------------------------------------------------------\u001b[0m",
            "\u001b[0;31mNameError\u001b[0m                                 Traceback (most recent call last)",
            "\u001b[0;32m<ipython-input-5-df18255c18a9>\u001b[0m in \u001b[0;36m<cell line: 1>\u001b[0;34m()\u001b[0m\n\u001b[0;32m----> 1\u001b[0;31m \u001b[0murl\u001b[0m \u001b[0;34m=\u001b[0m \u001b[0;34m\"https://api.gopluslabs.io/api/v1/address_security/\"\u001b[0m \u001b[0;34m+\u001b[0m \u001b[0mcreator\u001b[0m \u001b[0;34m+\u001b[0m \u001b[0;34m\"?chain_id=1\"\u001b[0m\u001b[0;34m\u001b[0m\u001b[0;34m\u001b[0m\u001b[0m\n\u001b[0m\u001b[1;32m      2\u001b[0m \u001b[0msession\u001b[0m \u001b[0;34m=\u001b[0m \u001b[0mSession\u001b[0m\u001b[0;34m(\u001b[0m\u001b[0;34m)\u001b[0m\u001b[0;34m\u001b[0m\u001b[0;34m\u001b[0m\u001b[0m\n\u001b[1;32m      3\u001b[0m \u001b[0mresponse2\u001b[0m \u001b[0;34m=\u001b[0m \u001b[0msession\u001b[0m\u001b[0;34m.\u001b[0m\u001b[0mget\u001b[0m\u001b[0;34m(\u001b[0m\u001b[0murl\u001b[0m\u001b[0;34m)\u001b[0m\u001b[0;34m.\u001b[0m\u001b[0mjson\u001b[0m\u001b[0;34m(\u001b[0m\u001b[0;34m)\u001b[0m\u001b[0;34m\u001b[0m\u001b[0;34m\u001b[0m\u001b[0m\n",
            "\u001b[0;31mNameError\u001b[0m: name 'creator' is not defined"
          ]
        }
      ],
      "source": [
        "url = \"https://api.gopluslabs.io/api/v1/address_security/\" + creator + \"?chain_id=1\"\n",
        "session = Session()\n",
        "response2 = session.get(url).json()"
      ]
    }
  ],
  "metadata": {
    "kernelspec": {
      "display_name": "Python 3 (ipykernel)",
      "language": "python",
      "name": "python3"
    },
    "language_info": {
      "codemirror_mode": {
        "name": "ipython",
        "version": 3
      },
      "file_extension": ".py",
      "mimetype": "text/x-python",
      "name": "python",
      "nbconvert_exporter": "python",
      "pygments_lexer": "ipython3",
      "version": "3.10.11"
    },
    "colab": {
      "provenance": [],
      "include_colab_link": true
    }
  },
  "nbformat": 4,
  "nbformat_minor": 5
}